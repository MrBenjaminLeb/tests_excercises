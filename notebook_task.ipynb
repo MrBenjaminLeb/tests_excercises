#%%
class Entry:
    def __init__(self):
        self.persons = []
        self.index = 0

    def enter(self, passport_number):
        self.persons.append(passport_number)
        self.index = self.index  + 1

    def leave(self):
        if self.index > 0:
            person = self.persons[self.index]
            self.persons[self.index] = None
            self.index = index - 1
            return person
        else:
            raise IndexError("no passports in queue")

#%% 
entry = Entry()
entry.enter("AB54321")
entry.enter("UK32032")
print(entry.leave())
print(entry.leave())